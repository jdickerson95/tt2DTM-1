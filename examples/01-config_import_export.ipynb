{
 "cells": [
  {
   "cell_type": "markdown",
   "metadata": {},
   "source": [
    "# Importing and Exporting Template Matching Configurations\n",
    "\n",
    "The `tt2DTM` package provides convenient program argument configurations through `.yaml` files.\n",
    "These `.yaml` configuration files are essentially human-readable key-value pairs defining input arguments and their associated values.\n",
    "For example, one argument is `micrograph_path` whose value should be a string to the path of the micrograph to be searched.\n",
    "In the `.yaml` configuration file, this would look like\n",
    "\n",
    "```yaml\n",
    "...  # key-value pairs before\n",
    "micrograph_path: \"some/path/to/micrograph.mrc\"\n",
    "... # key-value pairs after\n",
    "```\n",
    "\n",
    "Validation of configurations and io is handled by Pydantic models which also provide a convenient way to interface with these arguments in a Python script.\n",
    "Below, we go through the basics of creating a `.yaml` configuration for `tt2DTM`, parsing this into a `MatchTemplateManager` object, and re-exporting configurations.\n",
    "\n",
    "> [!NOTE]\n",
    "> The package is still under heavy development, so the layout and configuration arguments are subject to change in the future"
   ]
  },
  {
   "cell_type": "markdown",
   "metadata": {},
   "source": [
    "First, we import the Pydantic models (under the submodule `tt2dtm.models`) used to keep track of and organize the information necessary for running template matching along with some other Python packages."
   ]
  },
  {
   "cell_type": "code",
   "execution_count": 1,
   "metadata": {},
   "outputs": [],
   "source": [
    "import torch\n",
    "\n",
    "from tt2dtm.pydantic_models.computational_config import ComputationalConfig\n",
    "from tt2dtm.pydantic_models.correlation_filters import (\n",
    "    BandpassFilterConfig,\n",
    "    PhaseRandomizationFilterConfig,\n",
    "    PreprocessingFilters,\n",
    "    WhiteningFilterConfig,\n",
    ")\n",
    "from tt2dtm.pydantic_models.defocus_search_config import DefocusSearchConfig\n",
    "from tt2dtm.pydantic_models.match_template_manager import MatchTemplateManager\n",
    "from tt2dtm.pydantic_models.match_template_result import MatchTemplateResult\n",
    "from tt2dtm.pydantic_models.optics_group import OpticsGroup\n",
    "from tt2dtm.pydantic_models.orientation_search_config import OrientationSearchConfig\n",
    "from tt2dtm.pydantic_models.pixel_size_search_config import PixelSizeSearchConfig"
   ]
  },
  {
   "cell_type": "markdown",
   "metadata": {},
   "source": [
    "## Hierarchical organization of match template configurations\n",
    "\n",
    "The `MatchTemplateManager` class is the top-level object which contains the path to the micrograph, path to the 3D simulated volume of the reference template, and other configurations.\n",
    "Each instance of the `MatchTemplateManager` class requires the following attributes during instantiation.\n",
    "- `micrograph_path`: Path to the 2D image mrc file to be searched.\n",
    "- `template_volume_path`: Path to the 3D volumetric mrc file for the reference template.\n",
    "- `optics_group`: An instance of the `OpticsGroup` class, discussed below.\n",
    "- `defocus_search_config`: An instance of the `DefocusSearchConfig` class, discussed below.\n",
    "- `orientation_search_config`: An instance of the `OrientationSearchConfig` class, discussed below.\n",
    "- `preprocessing_filters`: An instance of the `PreprocessingFilters` class, discussed below.\n",
    "- `match_template_result`: An instance of the `MatchTemplateResult` class, discussed below.\n",
    "- `computational_config`: An instance of the `ComputationalConfig` class, discussed below.\n",
    "\n",
    "There are two additional attributes of the `MatchTemplateManager` class, `micrograph` and `template_volume`, which hold `torch.Tensor` objects of the loaded micrograph and template volume data, respectively.\n",
    "Note that these attributes are automatically loaded from the mrc file paths, but the contents of these tensors are not serialized during model export."
   ]
  },
  {
   "cell_type": "markdown",
   "metadata": {},
   "source": [
    "As briefly mentioned above, when creating a new instance of a manager, the other configuration attributes are required.\n",
    "We start with discussing the `OpticsGroup` class and work our way from the bottom up."
   ]
  },
  {
   "cell_type": "markdown",
   "metadata": {},
   "source": [
    "## The `OpticsGroup` class\n",
    "\n",
    "The `OpticsGroup` class is a container for microscope imaging parameters used to calculate filters during the template matching process.\n",
    "\n",
    "### Attributes\n",
    "\n",
    "We follow the fields that are defined in [RELION's](https://relion.readthedocs.io/en/latest/) optics group .star file, and the class has the following attributes:\n",
    "- `label`: A unique label for the optics group, usually contains some form of the micrograph name but can be any string.\n",
    "- `pixel_size`: Float value representing the pixel size of the image, in Angstroms.\n",
    "- `voltage`: The voltage of the microscope, in kV.\n",
    "- `spherical_aberration`: The spherical aberration of the microscope, in mm, with the default value of 2.7 mm.\n",
    "- `amplitude_contrast_ratio`: The amplitude contrast ratio, unitless, with the default value of 0.07.\n",
    "- `phase_shift`: Additional phase shift to apply across the CTF, in degrees, with the default value of 0.0.\n",
    "- `defocus_u`: Defocus of the micrograph along the major axis, in Angstroms.\n",
    "- `defocus_v`: Defocus of the micrograph along the minor axis, in Angstroms.\n",
    "- `astigmatism_angle`: Angle of the defocus astigmatism (relative to the x-axis), in degrees. The default value is 0.0.\n",
    "- `ctf_B_factor`: An additional b-factor to apply to the CTF, in Angstroms^2. The default value is 0.0.\n",
    "\n",
    "### Other unused attributes\n",
    "\n",
    "Additional, currently unused attributes for modeling higher-order aberrations are also defined in the class.\n",
    "These again follow RELION's conventions and may be used in the future.\n",
    "For more information on these attributes, refer to our API documentation.\n"
   ]
  },
  {
   "cell_type": "markdown",
   "metadata": {},
   "source": [
    "### An example of creating an `OpticsGroup` instance\n",
    "\n",
    "Below we create an instance of the `OpticsGroup` class with some made up, but nevertheless realistic values."
   ]
  },
  {
   "cell_type": "code",
   "execution_count": 2,
   "metadata": {},
   "outputs": [],
   "source": [
    "optics_group = OpticsGroup(\n",
    "    label=\"my_optics_group\",\n",
    "    pixel_size=1.06,\n",
    "    voltage=300.0,\n",
    "    spherical_aberration=2.7,  # default value\n",
    "    amplitude_contrast_ratio=0.07,  # default value\n",
    "    phase_shift=0.0,  # default value\n",
    "    defocus_u=5200.0,\n",
    "    defocus_v=4950.0,\n",
    "    astigmatism_angle=25.0,\n",
    "    ctf_B_factor=60.0,\n",
    ")"
   ]
  },
  {
   "cell_type": "markdown",
   "metadata": {},
   "source": [
    "### Serializing `OpticsGroup` instance to a dictionary\n",
    "\n",
    "Pydantic has built-in functionality for generating a dictionary of key, value pairs from the model attributes and their values.\n",
    "This can be done by calling the `.model_dump()` method for any of the Pydantic models in `tt2dtm.models`."
   ]
  },
  {
   "cell_type": "code",
   "execution_count": 3,
   "metadata": {},
   "outputs": [
    {
     "data": {
      "text/plain": [
       "{'label': 'my_optics_group',\n",
       " 'pixel_size': 1.06,\n",
       " 'voltage': 300.0,\n",
       " 'spherical_aberration': 2.7,\n",
       " 'amplitude_contrast_ratio': 0.07,\n",
       " 'phase_shift': 0.0,\n",
       " 'defocus_u': 5200.0,\n",
       " 'defocus_v': 4950.0,\n",
       " 'astigmatism_angle': 25.0,\n",
       " 'ctf_B_factor': 60.0,\n",
       " 'chromatic_aberration': 0.0,\n",
       " 'mtf_reference': None,\n",
       " 'mtf_values': None,\n",
       " 'beam_tilt_x': None,\n",
       " 'beam_tilt_y': None,\n",
       " 'odd_zernike': None,\n",
       " 'even_zernike': None,\n",
       " 'zernike_moments': None}"
      ]
     },
     "execution_count": 3,
     "metadata": {},
     "output_type": "execute_result"
    }
   ],
   "source": [
    "optics_group.model_dump()"
   ]
  },
  {
   "cell_type": "markdown",
   "metadata": {},
   "source": [
    "### Exporting `OpticsGroup` instance to a `.yaml` file\n",
    "\n",
    "[YAML](https://yaml.org) files are nothing more than a bunch of key-value pairs in a human-readable format.\n",
    "Like [JSON](https://www.json.org), YAML has parser functions/libraries in most programming languages increasing their interoperability.\n",
    "We adopt the `.yaml` format (and `.json` format, but not discussed here) for our configuration files rather than `.star` or some other custom serialization format.\n",
    "\n",
    "While the other models could in theory have YAML export methods, \n",
    "To export the `OpticsGroup` instance (or any other Pydantic model we have in tt2dtm) to a `.yaml` file, we have the already implemented `to_yaml()` method.\n"
   ]
  },
  {
   "cell_type": "code",
   "execution_count": 4,
   "metadata": {},
   "outputs": [],
   "source": [
    "yaml_filepath = \"./optics_group_example.yaml\"\n",
    "optics_group.to_yaml(yaml_filepath)"
   ]
  },
  {
   "cell_type": "markdown",
   "metadata": {},
   "source": [
    "The file `optics_group.yaml` should now exist within the same directory as this notebook and contains the following:\n",
    "\n",
    "----\n",
    "\n",
    "```yaml\n",
    "amplitude_contrast_ratio: 0.07\n",
    "beam_tilt_x: null\n",
    "beam_tilt_y: null\n",
    "chromatic_aberration: 0.0\n",
    "ctf_B_factor: 60.0\n",
    "astigmatism_angle: 25.0\n",
    "defocus_u: 5200.0\n",
    "defocus_v: 4950.0\n",
    "even_zernike: null\n",
    "label: my_optics_group\n",
    "mtf_reference: null\n",
    "mtf_values: null\n",
    "odd_zernike: null\n",
    "phase_shift: 0.0\n",
    "pixel_size: 1.06\n",
    "spherical_aberration: 2.7\n",
    "voltage: 300.0\n",
    "zernike_moments: null\n",
    "```\n",
    "\n",
    "----"
   ]
  },
  {
   "cell_type": "markdown",
   "metadata": {},
   "source": [
    "### Importing `OpticsGroup` instance from a `.yaml` file\n",
    "\n",
    "Each model also has the `from_yaml()` method which can be to instantiate the class from contents in a `.yaml` file.\n",
    "Below, we are creating a new instance of the `OpticsGroup` class from the `optics_group.yaml` file."
   ]
  },
  {
   "cell_type": "code",
   "execution_count": 5,
   "metadata": {},
   "outputs": [],
   "source": [
    "new_optics_group = OpticsGroup.from_yaml(yaml_filepath)\n",
    "\n",
    "# Check that attributes are the same\n",
    "assert new_optics_group == optics_group"
   ]
  },
  {
   "cell_type": "markdown",
   "metadata": {},
   "source": [
    "Editing, copying, and using `.yaml` files may be easier than directly manipulating objects in Python, especially when running large amounts of template matching jobs across many micrographs.\n",
    "Check out the other example notebook and scripts for more ways to use these configurations in practice.\n",
    "\n",
    "Below we continue with other model classes in the `tt2dtm.models` submodule, albeit in more brevity."
   ]
  },
  {
   "cell_type": "markdown",
   "metadata": {},
   "source": [
    "## The `DefocusSearchConfig` class\n",
    "\n",
    "The `DefocusSearchConfig` class is a container for the parameters used for searching over defocus values during template matching.\n",
    "It has the following attributes:\n",
    " - `enabled`: When true, do a defocus search during template matching.\n",
    " - `min_defocus`: The minimum defocus value to search over, in Angstroms.\n",
    " - `max_defocus`: The maximum defocus value to search over, in Angstroms.\n",
    " - `defocus_step`: The step size to search over the defocus values, in Angstroms.\n",
    "\n",
    " Note that the range of defocus values is relative to `defocus_u` and `defocus_v` in the `OpticsGroup` class, that is, we are searching above and below the average defocus value for the micrograph."
   ]
  },
  {
   "cell_type": "code",
   "execution_count": 6,
   "metadata": {},
   "outputs": [
    {
     "data": {
      "text/plain": [
       "{'enabled': True,\n",
       " 'defocus_min': -600.0,\n",
       " 'defocus_max': 600.0,\n",
       " 'defocus_step': 200.0}"
      ]
     },
     "execution_count": 6,
     "metadata": {},
     "output_type": "execute_result"
    }
   ],
   "source": [
    "# This will produce searched (relative) defocus values of:\n",
    "# [-600.0, -400.0, ..., 400.0, 600.0]  in Angstroms\n",
    "defocus_search_config = DefocusSearchConfig(\n",
    "    enable=True,\n",
    "    defocus_min=-600.0,\n",
    "    defocus_max=600.0,\n",
    "    defocus_step=200.0,\n",
    ")\n",
    "\n",
    "defocus_search_config.model_dump()"
   ]
  },
  {
   "cell_type": "markdown",
   "metadata": {},
   "source": [
    "### The `DefocusSearchConfig.defocus_values` property\n",
    "\n",
    "There is an additional helpful property, `defocus_values`, which is a list of defocus values to be searched over.\n",
    "This list is not serialized."
   ]
  },
  {
   "cell_type": "code",
   "execution_count": 7,
   "metadata": {},
   "outputs": [
    {
     "data": {
      "text/plain": [
       "[-600.0, -400.0, -200.0, 0.0, 200.0, 400.0, 600.0]"
      ]
     },
     "execution_count": 7,
     "metadata": {},
     "output_type": "execute_result"
    }
   ],
   "source": [
    "defocus_search_config.defocus_values"
   ]
  },
  {
   "cell_type": "markdown",
   "metadata": {},
   "source": [
    "### The `PixelSizeSearchConfig` class\n",
    "\n",
    "Nearly identical to the `DefocusSearchConfig` class, the `PixelSizeSearchConfig` contains minimum, maximum, and step size values for searching over pixel sizes.\n",
    "Properties are:\n",
    "- `enabled`: When true, do a pixel size search during template matching.\n",
    "- `min_pixel_size`: The minimum pixel size to search over, in Angstroms.\n",
    "- `max_pixel_size`: The maximum pixel size to search over, in Angstroms.\n",
    "- `pixel_size_step`: The step size to search over the pixel sizes, in Angstroms."
   ]
  },
  {
   "cell_type": "code",
   "execution_count": 8,
   "metadata": {},
   "outputs": [
    {
     "data": {
      "text/plain": [
       "{'enabled': True,\n",
       " 'pixel_size_min': 1.02,\n",
       " 'pixel_size_max': 1.11,\n",
       " 'pixel_size_step': 0.02}"
      ]
     },
     "execution_count": 8,
     "metadata": {},
     "output_type": "execute_result"
    }
   ],
   "source": [
    "pixel_size_search_config = PixelSizeSearchConfig(\n",
    "    enable=True,\n",
    "    pixel_size_min=1.02,\n",
    "    pixel_size_max=1.11,\n",
    "    pixel_size_step=0.02,\n",
    ")\n",
    "pixel_size_search_config.model_dump()"
   ]
  },
  {
   "cell_type": "markdown",
   "metadata": {},
   "source": [
    "### The `PixelSizeSearchConfig.pixel_sizes` property\n",
    "\n",
    "There is an additional helpful property, `pixel_sizes`, which is a list of pixel sizes to be searched over."
   ]
  },
  {
   "cell_type": "code",
   "execution_count": 9,
   "metadata": {},
   "outputs": [
    {
     "data": {
      "text/plain": [
       "[1.02, 1.04, 1.06, 1.08, 1.1, 1.12]"
      ]
     },
     "execution_count": 9,
     "metadata": {},
     "output_type": "execute_result"
    }
   ],
   "source": [
    "pixel_size_search_config.pixel_sizes"
   ]
  },
  {
   "cell_type": "markdown",
   "metadata": {},
   "source": [
    "## The `OrientationSearchConfig` class\n",
    "\n",
    "Container for orientation search parameters defining how SO(3) space is covered.\n",
    "It has the following attributes:\n",
    " - `orientation_sampling_method`: String of SO(3) sampling method. Currently only supports \"Hopf fibration\".\n",
    " - `template_symmetry`: Symmetry group of template. Currently only supports \"C1\".\n",
    " - `psi_min`: Minimum psi angle to search over, in degrees. Default is 0.0.\n",
    " - `psi_max`: Maximum psi angle to search over, in degrees. Default is 360.0.\n",
    " - `theta_min`: Minimum theta angle to search over, in degrees. Default is 0.0.\n",
    " - `theta_max`: Maximum theta angle to search over, in degrees. Default is 180.0.\n",
    " - `phi_min`: Minimum phi angle to search over, in degrees. Default is 0.0.\n",
    " - `phi_max`: Maximum phi angle to search over, in degrees. Default is 360.0.\n",
    " - `in_plane_angular_step`: \n",
    " - `out_of_plane_angular_step`: \n",
    "\n",
    " Note that these parameters are used for generating Euler angles in the 'ZYZ' convention internally. Other orientation representation methods may be implemented in the future."
   ]
  },
  {
   "cell_type": "markdown",
   "metadata": {},
   "source": [
    "### Instantiation with default values"
   ]
  },
  {
   "cell_type": "code",
   "execution_count": 10,
   "metadata": {},
   "outputs": [
    {
     "data": {
      "text/plain": [
       "{'orientation_sampling_method': 'Hopf Fibration',\n",
       " 'template_symmetry': 'C1',\n",
       " 'psi_min': 0.0,\n",
       " 'psi_max': 360.0,\n",
       " 'theta_min': 0.0,\n",
       " 'theta_max': 180.0,\n",
       " 'phi_min': 0.0,\n",
       " 'phi_max': 360.0,\n",
       " 'in_plane_angular_step': 1.5,\n",
       " 'out_of_plane_angular_step': 2.5}"
      ]
     },
     "execution_count": 10,
     "metadata": {},
     "output_type": "execute_result"
    }
   ],
   "source": [
    "orientation_search_config = OrientationSearchConfig()\n",
    "orientation_search_config.model_dump()"
   ]
  },
  {
   "cell_type": "markdown",
   "metadata": {},
   "source": [
    "### Non-default values"
   ]
  },
  {
   "cell_type": "code",
   "execution_count": 11,
   "metadata": {},
   "outputs": [
    {
     "data": {
      "text/plain": [
       "{'orientation_sampling_method': 'Hopf Fibration',\n",
       " 'template_symmetry': 'C1',\n",
       " 'psi_min': 120.0,\n",
       " 'psi_max': 240.0,\n",
       " 'theta_min': 45.0,\n",
       " 'theta_max': 135.0,\n",
       " 'phi_min': 20.0,\n",
       " 'phi_max': 40.0,\n",
       " 'in_plane_angular_step': 4.0,\n",
       " 'out_of_plane_angular_step': 5.0}"
      ]
     },
     "execution_count": 11,
     "metadata": {},
     "output_type": "execute_result"
    }
   ],
   "source": [
    "orientation_search_config = OrientationSearchConfig(\n",
    "    orientation_sampling_method=\"Hopf Fibration\",  # still default\n",
    "    template_symmetry=\"C1\",  # still default\n",
    "    psi_min=120.0,\n",
    "    psi_max=240.0,\n",
    "    theta_min=45.0,\n",
    "    theta_max=135.0,\n",
    "    phi_min=20.0,\n",
    "    phi_max=40.0,\n",
    "    in_plane_angular_step=4.0,\n",
    "    out_of_plane_angular_step=5.0,\n",
    ")\n",
    "orientation_search_config.model_dump()"
   ]
  },
  {
   "cell_type": "markdown",
   "metadata": {},
   "source": [
    "## The `PreprocessingFilters` class and subclasses\n",
    "\n",
    "Multiple Fourier filters are calculated and used during template matching.\n",
    "Rather than defining a singular model to hold all of the configurations, we have a base class, `PreprocessingFilters`, which holds instances of the following subclasses:\n",
    " - `PhaseRandomizationFilterConfig`\n",
    " - `WhiteningFilterConfig`\n",
    " - `BandpassFilterConfig`\n",
    "\n",
    "Below are examples of creating instances of these classes and the `PreprocessingFilters` class."
   ]
  },
  {
   "cell_type": "code",
   "execution_count": 12,
   "metadata": {},
   "outputs": [
    {
     "data": {
      "text/plain": [
       "{'whitening_filter_config': {'enabled': True,\n",
       "  'power_spectrum': True,\n",
       "  'smoothing': 2.0},\n",
       " 'bandpass_filter_config': {'enabled': False,\n",
       "  'low_freq_cutoff': 50.0,\n",
       "  'high_freq_cutoff': 2.5,\n",
       "  'falloff': 10.0},\n",
       " 'phase_randomization_filter_config': {'enabled': False, 'cuton': 2.5}}"
      ]
     },
     "execution_count": 12,
     "metadata": {},
     "output_type": "execute_result"
    }
   ],
   "source": [
    "# Enable phase randomization above 2.5 Angstroms\n",
    "prf_config = PhaseRandomizationFilterConfig(enabled=False, cuton=2.5)\n",
    "whitening_config = WhiteningFilterConfig(\n",
    "    enabled=True,\n",
    "    power_spectrum=True,\n",
    "    smoothing=2.0,\n",
    ")\n",
    "bandpass_config = BandpassFilterConfig(\n",
    "    enabled=False,  # filter not applied\n",
    "    low_freq_cutoff=50.0,  # in Angstroms, converted to spatial frequency\n",
    "    high_freq_cutoff=2.5,  # in Angstroms, converted to spatial frequency\n",
    "    falloff=10.0,  # decay rate\n",
    ")\n",
    "\n",
    "# Place all filter configs into `PreprocessingFilters` object\n",
    "preprocessing_filters = PreprocessingFilters(\n",
    "    phase_randomization_filter_config=prf_config,\n",
    "    whitening_filter_config=whitening_config,\n",
    "    bandpass_filter_config=bandpass_config,\n",
    ")\n",
    "preprocessing_filters.model_dump()"
   ]
  },
  {
   "cell_type": "markdown",
   "metadata": {},
   "source": [
    "## The `ComputationalConfig` class\n",
    "\n",
    "This class is currently unused, but its parameters may be used in the future to control how computational resources are used during template matching."
   ]
  },
  {
   "cell_type": "code",
   "execution_count": 13,
   "metadata": {},
   "outputs": [
    {
     "data": {
      "text/plain": [
       "{'gpu_ids': [0, 1, 2, 3], 'num_cpus': 20}"
      ]
     },
     "execution_count": 13,
     "metadata": {},
     "output_type": "execute_result"
    }
   ],
   "source": [
    "computational_config = ComputationalConfig(\n",
    "    gpu_ids=[0, 1, 2, 3],\n",
    "    num_cpus=20,\n",
    ")\n",
    "computational_config.model_dump()"
   ]
  },
  {
   "cell_type": "markdown",
   "metadata": {},
   "source": [
    "## The `MatchTemplateResult` class\n",
    "\n",
    "Coming back to models which warrant more explanation of what's going on under-the-hood, we have the `MatchTemplateResult` class which holds parameters for where results should be saved.\n",
    "In addition to the result paths, there is also the `allow_file_overwrite` attribute which will disallow overwriting files if set to `False`; the default is `False`.\n",
    "There are also `torch.Tensor` attributes for each of the results, but these are not serialized."
   ]
  },
  {
   "cell_type": "code",
   "execution_count": 14,
   "metadata": {},
   "outputs": [
    {
     "data": {
      "text/plain": [
       "{'allow_file_overwrite': True,\n",
       " 'mip_path': './output_mip.mrc',\n",
       " 'scaled_mip_path': './output_scaled_mip.mrc',\n",
       " 'correlation_average_path': './output_correlation_average.mrc',\n",
       " 'correlation_variance_path': './output_correlation_variance.mrc',\n",
       " 'orientation_psi_path': './output_orientation_psi.mrc',\n",
       " 'orientation_theta_path': './output_orientation_theta.mrc',\n",
       " 'orientation_phi_path': './output_orientation_phi.mrc',\n",
       " 'relative_defocus_path': './output_relative_defocus.mrc',\n",
       " 'pixel_size_path': './output_pixel_size.mrc',\n",
       " 'total_projections': 0,\n",
       " 'total_orientations': 0,\n",
       " 'total_defocus': 0}"
      ]
     },
     "execution_count": 14,
     "metadata": {},
     "output_type": "execute_result"
    }
   ],
   "source": [
    "match_template_result = MatchTemplateResult(\n",
    "    allow_file_overwrite=True,\n",
    "    mip_path=\"./output_mip.mrc\",\n",
    "    scaled_mip_path=\"./output_scaled_mip.mrc\",\n",
    "    correlation_average_path=\"./output_correlation_average.mrc\",\n",
    "    correlation_variance_path=\"./output_correlation_variance.mrc\",\n",
    "    orientation_psi_path=\"./output_orientation_psi.mrc\",\n",
    "    orientation_theta_path=\"./output_orientation_theta.mrc\",\n",
    "    orientation_phi_path=\"./output_orientation_phi.mrc\",\n",
    "    relative_defocus_path=\"./output_relative_defocus.mrc\",\n",
    "    pixel_size_path=\"./output_pixel_size.mrc\",\n",
    ")\n",
    "match_template_result.model_dump()"
   ]
  },
  {
   "cell_type": "markdown",
   "metadata": {},
   "source": [
    "### Helper method `MatchTemplateResult.export_results()`\n",
    "\n",
    "When saving results, it becomes tedious to re-type or re-access paths for each result over and over again.\n",
    "The `export_results()` method is a handy way to write all contents of the `MatchTemplateResult` instance to disk at once.\n",
    "\n",
    "NOTE: Currently no header information is written to .mrc files! This will be added in the future but users beware, you must track a pixel's physical meaning for the time being."
   ]
  },
  {
   "cell_type": "code",
   "execution_count": 15,
   "metadata": {},
   "outputs": [],
   "source": [
    "# Setting the values to singleton tensors\n",
    "match_template_result.mip = torch.Tensor([[1]])\n",
    "match_template_result.scaled_mip = torch.Tensor([[1]])\n",
    "match_template_result.correlation_average = torch.Tensor([[1]])\n",
    "match_template_result.correlation_variance = torch.Tensor([[1]])\n",
    "match_template_result.orientation_psi = torch.Tensor([[1]])\n",
    "match_template_result.orientation_theta = torch.Tensor([[1]])\n",
    "match_template_result.orientation_phi = torch.Tensor([[1]])\n",
    "match_template_result.relative_defocus = torch.Tensor([[1]])\n",
    "match_template_result.pixel_size = torch.Tensor([[1]])\n",
    "\n",
    "# Export the dummy example files\n",
    "match_template_result.export_results()"
   ]
  },
  {
   "cell_type": "code",
   "execution_count": 16,
   "metadata": {},
   "outputs": [],
   "source": [
    "# Run this cell to remove the dummy example files after viewing\n",
    "import os\n",
    "\n",
    "os.remove(\"./output_mip.mrc\")\n",
    "os.remove(\"./output_scaled_mip.mrc\")\n",
    "os.remove(\"./output_correlation_average.mrc\")\n",
    "os.remove(\"./output_correlation_variance.mrc\")\n",
    "os.remove(\"./output_orientation_psi.mrc\")\n",
    "os.remove(\"./output_orientation_theta.mrc\")\n",
    "os.remove(\"./output_orientation_phi.mrc\")\n",
    "os.remove(\"./output_relative_defocus.mrc\")\n",
    "os.remove(\"./output_pixel_size.mrc\")"
   ]
  },
  {
   "cell_type": "markdown",
   "metadata": {},
   "source": [
    "## Returning to `MatchTemplateManager`\n",
    "\n",
    "Now that the constituent parts of the `MatchTemplateManager` class have been discussed, we can instantiate a `MatchTemplateManager` object and export it to a `.yaml` file.\n",
    "Note that currently the results must be separately saved to disk using the `MatchTemplateResult.export_results()` method, but there should be a way to integrate this into a single method call."
   ]
  },
  {
   "cell_type": "code",
   "execution_count": 17,
   "metadata": {},
   "outputs": [
    {
     "data": {
      "text/plain": [
       "{'micrograph_path': 'dummy_micrograph.mrc',\n",
       " 'template_volume_path': 'dummy_volume.mrc',\n",
       " 'optics_group': {'label': 'my_optics_group',\n",
       "  'pixel_size': 1.06,\n",
       "  'voltage': 300.0,\n",
       "  'spherical_aberration': 2.7,\n",
       "  'amplitude_contrast_ratio': 0.07,\n",
       "  'phase_shift': 0.0,\n",
       "  'defocus_u': 5200.0,\n",
       "  'defocus_v': 4950.0,\n",
       "  'astigmatism_angle': 25.0,\n",
       "  'ctf_B_factor': 60.0,\n",
       "  'chromatic_aberration': 0.0,\n",
       "  'mtf_reference': None,\n",
       "  'mtf_values': None,\n",
       "  'beam_tilt_x': None,\n",
       "  'beam_tilt_y': None,\n",
       "  'odd_zernike': None,\n",
       "  'even_zernike': None,\n",
       "  'zernike_moments': None},\n",
       " 'defocus_search_config': {'enabled': True,\n",
       "  'defocus_min': -600.0,\n",
       "  'defocus_max': 600.0,\n",
       "  'defocus_step': 200.0},\n",
       " 'orientation_search_config': {'orientation_sampling_method': 'Hopf Fibration',\n",
       "  'template_symmetry': 'C1',\n",
       "  'psi_min': 120.0,\n",
       "  'psi_max': 240.0,\n",
       "  'theta_min': 45.0,\n",
       "  'theta_max': 135.0,\n",
       "  'phi_min': 20.0,\n",
       "  'phi_max': 40.0,\n",
       "  'in_plane_angular_step': 4.0,\n",
       "  'out_of_plane_angular_step': 5.0},\n",
       " 'pixel_size_search_config': {'enabled': True,\n",
       "  'pixel_size_min': 1.02,\n",
       "  'pixel_size_max': 1.11,\n",
       "  'pixel_size_step': 0.02},\n",
       " 'preprocessing_filters': {'whitening_filter_config': {'enabled': True,\n",
       "   'power_spectrum': True,\n",
       "   'smoothing': 2.0},\n",
       "  'bandpass_filter_config': {'enabled': False,\n",
       "   'low_freq_cutoff': 50.0,\n",
       "   'high_freq_cutoff': 2.5,\n",
       "   'falloff': 10.0},\n",
       "  'phase_randomization_filter_config': {'enabled': False, 'cuton': 2.5}},\n",
       " 'match_template_result': {'allow_file_overwrite': True,\n",
       "  'mip_path': './output_mip.mrc',\n",
       "  'scaled_mip_path': './output_scaled_mip.mrc',\n",
       "  'correlation_average_path': './output_correlation_average.mrc',\n",
       "  'correlation_variance_path': './output_correlation_variance.mrc',\n",
       "  'orientation_psi_path': './output_orientation_psi.mrc',\n",
       "  'orientation_theta_path': './output_orientation_theta.mrc',\n",
       "  'orientation_phi_path': './output_orientation_phi.mrc',\n",
       "  'relative_defocus_path': './output_relative_defocus.mrc',\n",
       "  'pixel_size_path': './output_pixel_size.mrc',\n",
       "  'total_projections': 0,\n",
       "  'total_orientations': 0,\n",
       "  'total_defocus': 0},\n",
       " 'computational_config': {'gpu_ids': [0, 1, 2, 3], 'num_cpus': 20}}"
      ]
     },
     "execution_count": 17,
     "metadata": {},
     "output_type": "execute_result"
    }
   ],
   "source": [
    "match_template_manager = MatchTemplateManager(\n",
    "    micrograph_path=\"dummy_micrograph.mrc\",\n",
    "    template_volume_path=\"dummy_volume.mrc\",\n",
    "    optics_group=optics_group,\n",
    "    defocus_search_config=defocus_search_config,\n",
    "    orientation_search_config=orientation_search_config,\n",
    "    pixel_size_search_config=pixel_size_search_config,\n",
    "    preprocessing_filters=preprocessing_filters,\n",
    "    match_template_result=match_template_result,\n",
    "    computational_config=computational_config,\n",
    ")\n",
    "\n",
    "# This will display a lot of text\n",
    "match_template_manager.model_dump()"
   ]
  },
  {
   "cell_type": "markdown",
   "metadata": {},
   "source": [
    "Now that the `MatchTemplateManager` object has been created, we can export it to a `.yaml` file using the `to_yaml()` method."
   ]
  },
  {
   "cell_type": "code",
   "execution_count": 18,
   "metadata": {},
   "outputs": [],
   "source": [
    "match_template_manager.to_yaml(\"match_template_manager_example.yaml\")"
   ]
  },
  {
   "cell_type": "markdown",
   "metadata": {},
   "source": [
    "If you inspect the YAML file, you will see the following\n",
    "\n",
    "----\n",
    "\n",
    "```yaml\n",
    "computational_config:\n",
    "  gpu_ids:\n",
    "  - 0\n",
    "  - 1\n",
    "  - 2\n",
    "  - 3\n",
    "  num_cpus: 20\n",
    "defocus_search_config:\n",
    "  defocus_max: 600.0\n",
    "  defocus_min: -600.0\n",
    "  defocus_step: 200.0\n",
    "  enabled: true\n",
    "match_template_result:\n",
    "  allow_file_overwrite: true\n",
    "  correlation_average_path: ./output_correlation_average.mrc\n",
    "  correlation_variance_path: ./output_correlation_variance.mrc\n",
    "  mip_path: ./output_mip.mrc\n",
    "  orientation_phi_path: ./output_orientation_phi.mrc\n",
    "  orientation_psi_path: ./output_orientation_psi.mrc\n",
    "  orientation_theta_path: ./output_orientation_theta.mrc\n",
    "  pixel_size_path: ./output_pixel_size.mrc\n",
    "  relative_defocus_path: ./output_relative_defocus.mrc\n",
    "  scaled_mip_path: ./output_scaled_mip.mrc\n",
    "micrograph_path: dummy_micrograph.mrc\n",
    "optics_group:\n",
    "  amplitude_contrast_ratio: 0.07\n",
    "  beam_tilt_x: null\n",
    "  beam_tilt_y: null\n",
    "  chromatic_aberration: 0.0\n",
    "  ctf_B_factor: 60.0\n",
    "  astigmatism_angle: 25.0\n",
    "  defocus_u: 5200.0\n",
    "  defocus_v: 4950.0\n",
    "  even_zernike: null\n",
    "  label: my_optics_group\n",
    "  mtf_reference: null\n",
    "  mtf_values: null\n",
    "  odd_zernike: null\n",
    "  phase_shift: 0.0\n",
    "  pixel_size: 1.06\n",
    "  spherical_aberration: 2.7\n",
    "  voltage: 300.0\n",
    "  zernike_moments: null\n",
    "orientation_search_config:\n",
    "  in_plane_angular_step: 4.0\n",
    "  orientation_sampling_method: Hopf Fibration\n",
    "  out_of_plane_angular_step: 5.0\n",
    "  phi_max: 40.0\n",
    "  phi_min: 20.0\n",
    "  psi_max: 240.0\n",
    "  psi_min: 120.0\n",
    "  template_symmetry: C1\n",
    "  theta_max: 135.0\n",
    "  theta_min: 45.0\n",
    "pixel_size_search_config:\n",
    "  enabled: true\n",
    "  pixel_size_max: 1.11\n",
    "  pixel_size_min: 1.02\n",
    "  pixel_size_step: 0.02\n",
    "preprocessing_filters:\n",
    "  bandpass_filter_config:\n",
    "    enabled: false\n",
    "    falloff: 10.0\n",
    "    high_freq_cutoff: 2.5\n",
    "    low_freq_cutoff: 50.0\n",
    "  phase_randomization_filter_config:\n",
    "    cuton: 2.5\n",
    "    enabled: false\n",
    "  whitening_filter_config:\n",
    "    enabled: true\n",
    "    power_spectrum: true\n",
    "    smoothing: 2.0\n",
    "template_volume_path: dummy_volume.mrc\n",
    "```\n",
    "\n",
    "----"
   ]
  }
 ],
 "metadata": {
  "kernelspec": {
   "display_name": "tt2DTM-dev",
   "language": "python",
   "name": "python3"
  },
  "language_info": {
   "codemirror_mode": {
    "name": "ipython",
    "version": 3
   },
   "file_extension": ".py",
   "mimetype": "text/x-python",
   "name": "python",
   "nbconvert_exporter": "python",
   "pygments_lexer": "ipython3",
   "version": "3.12.8"
  }
 },
 "nbformat": 4,
 "nbformat_minor": 2
}
